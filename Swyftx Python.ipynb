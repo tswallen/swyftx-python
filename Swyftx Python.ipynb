{
 "cells": [
  {
   "cell_type": "markdown",
   "id": "cee417f3-17c4-4c8d-b7d4-b4f6f280fa70",
   "metadata": {
    "tags": []
   },
   "source": [
    "# Swyftx Python"
   ]
  },
  {
   "cell_type": "code",
   "execution_count": null,
   "id": "eeca7db7-4e0b-43b9-83e4-9795cb612933",
   "metadata": {
    "tags": []
   },
   "outputs": [],
   "source": [
    "# Imports\n",
    "\n",
    "from swyftx import Swyftx\n",
    "import pandas as pd"
   ]
  },
  {
   "cell_type": "code",
   "execution_count": null,
   "id": "63d9ca82-4267-4a9f-8ef4-f40fc431c8ed",
   "metadata": {},
   "outputs": [],
   "source": [
    "# Get config\n",
    "\n",
    "config = {key.lower() : value.rstrip('\\n') for key, value in (line.split(' = ') for line in open('config.txt'))}"
   ]
  },
  {
   "cell_type": "code",
   "execution_count": null,
   "id": "bbbc1f02-7769-4095-b998-d701ed6b14ba",
   "metadata": {},
   "outputs": [],
   "source": [
    "swyftx = Swyftx(config)"
   ]
  },
  {
   "cell_type": "code",
   "execution_count": null,
   "id": "f0c96736-39ad-4fc5-8b4b-95a929eaec3f",
   "metadata": {},
   "outputs": [],
   "source": [
    "# Get access token\n",
    "\n",
    "token = swyftx.refresh_access_token(data = {'apiKey': config['api_key']}).json()['accessToken']"
   ]
  },
  {
   "cell_type": "code",
   "execution_count": null,
   "id": "257e5530-26e4-4220-a763-da931d43016c",
   "metadata": {},
   "outputs": [],
   "source": [
    "# Get account balances\n",
    "\n",
    "account_balances = swyftx.get_account_balances(headers = {'Authorization': f'Bearer {token}'}).json()\n",
    "\n",
    "pd.DataFrame.from_dict(account_balances)"
   ]
  },
  {
   "cell_type": "code",
   "execution_count": null,
   "id": "21aa91be-8b79-4018-b9c6-89bf99eaa102",
   "metadata": {},
   "outputs": [],
   "source": [
    "# Get Market Assets\n",
    "\n",
    "market_assets = swyftx.get_market_assets().json()\n",
    "\n",
    "pd.json_normalize(market_assets)"
   ]
  },
  {
   "cell_type": "code",
   "execution_count": null,
   "id": "206f4b50-7c8c-49bb-aba5-3140d3161653",
   "metadata": {},
   "outputs": [],
   "source": [
    "# Get BTC Live Rates\n",
    "\n",
    "btc_live_rates = swyftx.get_live_rates(asset = 3).json()\n",
    "\n",
    "pd.DataFrame.from_dict(btc_live_rates)"
   ]
  },
  {
   "cell_type": "code",
   "execution_count": null,
   "id": "d9d232c9-cc0b-4276-ae49-504ef18157c9",
   "metadata": {},
   "outputs": [],
   "source": [
    "# Get AUD Live Rates\n",
    "\n",
    "btc_live_rates = swyftx.get_live_rates(asset = 1).json()\n",
    "\n",
    "pd.DataFrame.from_dict(btc_live_rates)"
   ]
  }
 ],
 "metadata": {
  "kernelspec": {
   "display_name": "Python 3",
   "language": "python",
   "name": "python3"
  },
  "language_info": {
   "codemirror_mode": {
    "name": "ipython",
    "version": 3
   },
   "file_extension": ".py",
   "mimetype": "text/x-python",
   "name": "python",
   "nbconvert_exporter": "python",
   "pygments_lexer": "ipython3",
   "version": "3.6.8"
  }
 },
 "nbformat": 4,
 "nbformat_minor": 5
}
